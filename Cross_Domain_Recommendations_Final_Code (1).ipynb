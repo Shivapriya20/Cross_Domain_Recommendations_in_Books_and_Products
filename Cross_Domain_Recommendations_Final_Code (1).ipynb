{
  "nbformat": 4,
  "nbformat_minor": 0,
  "metadata": {
    "colab": {
      "provenance": [],
      "machine_shape": "hm",
      "gpuType": "L4"
    },
    "kernelspec": {
      "name": "python3",
      "display_name": "Python 3"
    },
    "language_info": {
      "name": "python"
    },
    "accelerator": "GPU"
  },
  "cells": [
    {
      "cell_type": "code",
      "execution_count": 36,
      "metadata": {
        "id": "CY3ZwYC6cGxO"
      },
      "outputs": [],
      "source": [
        "# Importing the Necessary Libraries\n",
        "\n",
        "import pandas as pd\n",
        "import numpy as np\n",
        "from scipy.sparse.linalg import svds\n",
        "from sklearn.preprocessing import StandardScaler\n",
        "import matplotlib.pyplot as plt\n",
        "import seaborn as sns\n",
        "from sklearn.metrics import mean_squared_error\n",
        "from sklearn.model_selection import train_test_split\n",
        "from sklearn.decomposition import PCA\n",
        "from scipy.sparse import csr_matrix\n",
        "from sklearn.decomposition import TruncatedSVD"
      ]
    },
    {
      "cell_type": "code",
      "source": [
        "# Importing data from google drive\n",
        "\n",
        "from google.colab import drive\n",
        "\n",
        "drive.mount('/content/drive')"
      ],
      "metadata": {
        "colab": {
          "base_uri": "https://localhost:8080/"
        },
        "id": "VOIu5aMKv7U-",
        "outputId": "b73e0f20-9ac2-4394-efe9-a27aa4f8025a"
      },
      "execution_count": 37,
      "outputs": [
        {
          "output_type": "stream",
          "name": "stdout",
          "text": [
            "Drive already mounted at /content/drive; to attempt to forcibly remount, call drive.mount(\"/content/drive\", force_remount=True).\n"
          ]
        }
      ]
    },
    {
      "cell_type": "code",
      "source": [
        "# Loading datasets\n",
        "\n",
        "product_reviews_df = pd.read_csv('/content/drive/MyDrive/Reviews.csv')\n",
        "\n",
        "book_reviews_df = pd.read_csv('/content/drive/MyDrive/Books_rating.csv')"
      ],
      "metadata": {
        "id": "Wea68n1xhGiw"
      },
      "execution_count": 38,
      "outputs": []
    },
    {
      "cell_type": "code",
      "source": [
        "# Displaying the first few rows of each dataset\n",
        "\n",
        "print(\"Product Reviews Dataset:\")\n",
        "\n",
        "print(product_reviews_df.head())\n",
        "\n",
        "print(\"\\nBook Reviews Dataset:\")\n",
        "\n",
        "print(book_reviews_df.head())"
      ],
      "metadata": {
        "id": "d4Uh3pbf3EMm",
        "colab": {
          "base_uri": "https://localhost:8080/"
        },
        "outputId": "10530cef-92fb-4636-88f4-e9bf5556a23a"
      },
      "execution_count": 39,
      "outputs": [
        {
          "output_type": "stream",
          "name": "stdout",
          "text": [
            "Product Reviews Dataset:\n",
            "   Id   ProductId          UserId                      ProfileName  \\\n",
            "0   1  B001E4KFG0  A3SGXH7AUHU8GW                       delmartian   \n",
            "1   2  B00813GRG4  A1D87F6ZCVE5NK                           dll pa   \n",
            "2   3  B000LQOCH0   ABXLMWJIXXAIN  Natalia Corres \"Natalia Corres\"   \n",
            "3   4  B000UA0QIQ  A395BORC6FGVXV                             Karl   \n",
            "4   5  B006K2ZZ7K  A1UQRSCLF8GW1T    Michael D. Bigham \"M. Wassir\"   \n",
            "\n",
            "   HelpfulnessNumerator  HelpfulnessDenominator  Score        Time  \\\n",
            "0                     1                       1      5  1303862400   \n",
            "1                     0                       0      1  1346976000   \n",
            "2                     1                       1      4  1219017600   \n",
            "3                     3                       3      2  1307923200   \n",
            "4                     0                       0      5  1350777600   \n",
            "\n",
            "                 Summary                                               Text  \n",
            "0  Good Quality Dog Food  I have bought several of the Vitality canned d...  \n",
            "1      Not as Advertised  Product arrived labeled as Jumbo Salted Peanut...  \n",
            "2  \"Delight\" says it all  This is a confection that has been around a fe...  \n",
            "3         Cough Medicine  If you are looking for the secret ingredient i...  \n",
            "4            Great taffy  Great taffy at a great price.  There was a wid...  \n",
            "\n",
            "Book Reviews Dataset:\n",
            "           Id                           Title  Price         User_id  \\\n",
            "0  1882931173  Its Only Art If Its Well Hung!    NaN   AVCGYZL8FQQTD   \n",
            "1  0826414346        Dr. Seuss: American Icon    NaN  A30TK6U7DNS82R   \n",
            "2  0826414346        Dr. Seuss: American Icon    NaN  A3UH4UZ4RSVO82   \n",
            "3  0826414346        Dr. Seuss: American Icon    NaN  A2MVUWT453QH61   \n",
            "4  0826414346        Dr. Seuss: American Icon    NaN  A22X4XUPKF66MR   \n",
            "\n",
            "                          profileName review/helpfulness  review/score  \\\n",
            "0               Jim of Oz \"jim-of-oz\"                7/7           4.0   \n",
            "1                       Kevin Killian              10/10           5.0   \n",
            "2                        John Granger              10/11           5.0   \n",
            "3  Roy E. Perry \"amateur philosopher\"                7/7           4.0   \n",
            "4     D. H. Richards \"ninthwavestore\"                3/3           4.0   \n",
            "\n",
            "   review/time                                   review/summary  \\\n",
            "0    940636800           Nice collection of Julie Strain images   \n",
            "1   1095724800                                Really Enjoyed It   \n",
            "2   1078790400  Essential for every personal and Public Library   \n",
            "3   1090713600  Phlip Nel gives silly Seuss a serious treatment   \n",
            "4   1107993600                           Good academic overview   \n",
            "\n",
            "                                         review/text  \n",
            "0  This is only for Julie Strain fans. It's a col...  \n",
            "1  I don't care much for Dr. Seuss but after read...  \n",
            "2  If people become the books they read and if \"t...  \n",
            "3  Theodore Seuss Geisel (1904-1991), aka &quot;D...  \n",
            "4  Philip Nel - Dr. Seuss: American IconThis is b...  \n"
          ]
        }
      ]
    },
    {
      "cell_type": "code",
      "source": [
        "product_reviews_df.shape"
      ],
      "metadata": {
        "colab": {
          "base_uri": "https://localhost:8080/"
        },
        "id": "2ICt4se0SSUB",
        "outputId": "e20dce84-37a1-4d65-ce3c-2533f5207c36"
      },
      "execution_count": 40,
      "outputs": [
        {
          "output_type": "execute_result",
          "data": {
            "text/plain": [
              "(568454, 10)"
            ]
          },
          "metadata": {},
          "execution_count": 40
        }
      ]
    },
    {
      "cell_type": "code",
      "source": [
        "book_reviews_df.shape"
      ],
      "metadata": {
        "colab": {
          "base_uri": "https://localhost:8080/"
        },
        "id": "PVF0eFADSUZA",
        "outputId": "3f0b763a-e897-42a1-fcbd-38f51e380fce"
      },
      "execution_count": 41,
      "outputs": [
        {
          "output_type": "execute_result",
          "data": {
            "text/plain": [
              "(3000000, 10)"
            ]
          },
          "metadata": {},
          "execution_count": 41
        }
      ]
    },
    {
      "cell_type": "code",
      "source": [
        "product_reviews_df.isna().sum()"
      ],
      "metadata": {
        "colab": {
          "base_uri": "https://localhost:8080/",
          "height": 398
        },
        "id": "JYkOBtx4QUd9",
        "outputId": "ae6c1b0d-2589-4f90-96c1-9a47b3e756d1"
      },
      "execution_count": 42,
      "outputs": [
        {
          "output_type": "execute_result",
          "data": {
            "text/plain": [
              "Id                         0\n",
              "ProductId                  0\n",
              "UserId                     0\n",
              "ProfileName               26\n",
              "HelpfulnessNumerator       0\n",
              "HelpfulnessDenominator     0\n",
              "Score                      0\n",
              "Time                       0\n",
              "Summary                   27\n",
              "Text                       0\n",
              "dtype: int64"
            ],
            "text/html": [
              "<div>\n",
              "<style scoped>\n",
              "    .dataframe tbody tr th:only-of-type {\n",
              "        vertical-align: middle;\n",
              "    }\n",
              "\n",
              "    .dataframe tbody tr th {\n",
              "        vertical-align: top;\n",
              "    }\n",
              "\n",
              "    .dataframe thead th {\n",
              "        text-align: right;\n",
              "    }\n",
              "</style>\n",
              "<table border=\"1\" class=\"dataframe\">\n",
              "  <thead>\n",
              "    <tr style=\"text-align: right;\">\n",
              "      <th></th>\n",
              "      <th>0</th>\n",
              "    </tr>\n",
              "  </thead>\n",
              "  <tbody>\n",
              "    <tr>\n",
              "      <th>Id</th>\n",
              "      <td>0</td>\n",
              "    </tr>\n",
              "    <tr>\n",
              "      <th>ProductId</th>\n",
              "      <td>0</td>\n",
              "    </tr>\n",
              "    <tr>\n",
              "      <th>UserId</th>\n",
              "      <td>0</td>\n",
              "    </tr>\n",
              "    <tr>\n",
              "      <th>ProfileName</th>\n",
              "      <td>26</td>\n",
              "    </tr>\n",
              "    <tr>\n",
              "      <th>HelpfulnessNumerator</th>\n",
              "      <td>0</td>\n",
              "    </tr>\n",
              "    <tr>\n",
              "      <th>HelpfulnessDenominator</th>\n",
              "      <td>0</td>\n",
              "    </tr>\n",
              "    <tr>\n",
              "      <th>Score</th>\n",
              "      <td>0</td>\n",
              "    </tr>\n",
              "    <tr>\n",
              "      <th>Time</th>\n",
              "      <td>0</td>\n",
              "    </tr>\n",
              "    <tr>\n",
              "      <th>Summary</th>\n",
              "      <td>27</td>\n",
              "    </tr>\n",
              "    <tr>\n",
              "      <th>Text</th>\n",
              "      <td>0</td>\n",
              "    </tr>\n",
              "  </tbody>\n",
              "</table>\n",
              "</div><br><label><b>dtype:</b> int64</label>"
            ]
          },
          "metadata": {},
          "execution_count": 42
        }
      ]
    },
    {
      "cell_type": "code",
      "source": [
        "book_reviews_df.isna().sum()"
      ],
      "metadata": {
        "colab": {
          "base_uri": "https://localhost:8080/",
          "height": 398
        },
        "id": "0T50mdZKQZ0H",
        "outputId": "7c158317-6016-498c-a59c-7970c789490e"
      },
      "execution_count": 43,
      "outputs": [
        {
          "output_type": "execute_result",
          "data": {
            "text/plain": [
              "Id                          0\n",
              "Title                     208\n",
              "Price                 2518829\n",
              "User_id                561787\n",
              "profileName            561905\n",
              "review/helpfulness          0\n",
              "review/score                0\n",
              "review/time                 0\n",
              "review/summary            407\n",
              "review/text                 8\n",
              "dtype: int64"
            ],
            "text/html": [
              "<div>\n",
              "<style scoped>\n",
              "    .dataframe tbody tr th:only-of-type {\n",
              "        vertical-align: middle;\n",
              "    }\n",
              "\n",
              "    .dataframe tbody tr th {\n",
              "        vertical-align: top;\n",
              "    }\n",
              "\n",
              "    .dataframe thead th {\n",
              "        text-align: right;\n",
              "    }\n",
              "</style>\n",
              "<table border=\"1\" class=\"dataframe\">\n",
              "  <thead>\n",
              "    <tr style=\"text-align: right;\">\n",
              "      <th></th>\n",
              "      <th>0</th>\n",
              "    </tr>\n",
              "  </thead>\n",
              "  <tbody>\n",
              "    <tr>\n",
              "      <th>Id</th>\n",
              "      <td>0</td>\n",
              "    </tr>\n",
              "    <tr>\n",
              "      <th>Title</th>\n",
              "      <td>208</td>\n",
              "    </tr>\n",
              "    <tr>\n",
              "      <th>Price</th>\n",
              "      <td>2518829</td>\n",
              "    </tr>\n",
              "    <tr>\n",
              "      <th>User_id</th>\n",
              "      <td>561787</td>\n",
              "    </tr>\n",
              "    <tr>\n",
              "      <th>profileName</th>\n",
              "      <td>561905</td>\n",
              "    </tr>\n",
              "    <tr>\n",
              "      <th>review/helpfulness</th>\n",
              "      <td>0</td>\n",
              "    </tr>\n",
              "    <tr>\n",
              "      <th>review/score</th>\n",
              "      <td>0</td>\n",
              "    </tr>\n",
              "    <tr>\n",
              "      <th>review/time</th>\n",
              "      <td>0</td>\n",
              "    </tr>\n",
              "    <tr>\n",
              "      <th>review/summary</th>\n",
              "      <td>407</td>\n",
              "    </tr>\n",
              "    <tr>\n",
              "      <th>review/text</th>\n",
              "      <td>8</td>\n",
              "    </tr>\n",
              "  </tbody>\n",
              "</table>\n",
              "</div><br><label><b>dtype:</b> int64</label>"
            ]
          },
          "metadata": {},
          "execution_count": 43
        }
      ]
    },
    {
      "cell_type": "code",
      "source": [
        "product_reviews_df.columns"
      ],
      "metadata": {
        "colab": {
          "base_uri": "https://localhost:8080/"
        },
        "id": "WgK8pM3iQsiQ",
        "outputId": "28af39d2-a37f-4ebd-fbe4-1d424c27d363"
      },
      "execution_count": 44,
      "outputs": [
        {
          "output_type": "execute_result",
          "data": {
            "text/plain": [
              "Index(['Id', 'ProductId', 'UserId', 'ProfileName', 'HelpfulnessNumerator',\n",
              "       'HelpfulnessDenominator', 'Score', 'Time', 'Summary', 'Text'],\n",
              "      dtype='object')"
            ]
          },
          "metadata": {},
          "execution_count": 44
        }
      ]
    },
    {
      "cell_type": "code",
      "source": [
        "book_reviews_df.columns"
      ],
      "metadata": {
        "colab": {
          "base_uri": "https://localhost:8080/"
        },
        "id": "TvBooFkuQxMw",
        "outputId": "555c90a8-9d31-43d2-daf1-c4fb2d960242"
      },
      "execution_count": 45,
      "outputs": [
        {
          "output_type": "execute_result",
          "data": {
            "text/plain": [
              "Index(['Id', 'Title', 'Price', 'User_id', 'profileName', 'review/helpfulness',\n",
              "       'review/score', 'review/time', 'review/summary', 'review/text'],\n",
              "      dtype='object')"
            ]
          },
          "metadata": {},
          "execution_count": 45
        }
      ]
    },
    {
      "cell_type": "code",
      "source": [
        "# Renaming columns for better clarity\n",
        "\n",
        "# Product reviews dataset\n",
        "product_reviews_df = product_reviews_df.rename(columns={\n",
        "    'ProductId': 'Product_ID',\n",
        "    'UserId': 'User_ID',\n",
        "    'Score': 'Rating',\n",
        "    'Time': 'Timestamp',\n",
        "    'Summary': 'Review_Summary',\n",
        "    'Text': 'Review_Text'\n",
        "})"
      ],
      "metadata": {
        "id": "4LGOArCrFlvo"
      },
      "execution_count": 46,
      "outputs": []
    },
    {
      "cell_type": "code",
      "source": [
        "# Book reviews dataset\n",
        "book_reviews_df = book_reviews_df.rename(columns={\n",
        "    'User_id': 'User_ID',\n",
        "    'review/score': 'Rating',\n",
        "    'review/time': 'Timestamp',\n",
        "    'review/summary': 'Review_Summary',\n",
        "    'review/text': 'Review_Text',\n",
        "    'profileName': 'Profile_Name',\n",
        "    'Title': 'Book_Title',\n",
        "    'Price': 'Book_Price',\n",
        "    'review/helpfulness': 'Helpfulness_Rating'\n",
        "})"
      ],
      "metadata": {
        "id": "kemeMQxVFlyg"
      },
      "execution_count": 47,
      "outputs": []
    },
    {
      "cell_type": "code",
      "source": [
        "# Previewing cleaned data\n",
        "\n",
        "print(\"\\nProcessed Product Reviews Data:\")\n",
        "\n",
        "print(product_reviews_df.head())\n",
        "\n",
        "print(\"\\nProcessed Book Reviews Data:\")\n",
        "\n",
        "print(book_reviews_df.head())"
      ],
      "metadata": {
        "colab": {
          "base_uri": "https://localhost:8080/"
        },
        "id": "D03A2ZbISL3r",
        "outputId": "7a0f44e5-44f5-4ca4-b6e4-c46a94254071"
      },
      "execution_count": 48,
      "outputs": [
        {
          "output_type": "stream",
          "name": "stdout",
          "text": [
            "\n",
            "Processed Product Reviews Data:\n",
            "   Id  Product_ID         User_ID                      ProfileName  \\\n",
            "0   1  B001E4KFG0  A3SGXH7AUHU8GW                       delmartian   \n",
            "1   2  B00813GRG4  A1D87F6ZCVE5NK                           dll pa   \n",
            "2   3  B000LQOCH0   ABXLMWJIXXAIN  Natalia Corres \"Natalia Corres\"   \n",
            "3   4  B000UA0QIQ  A395BORC6FGVXV                             Karl   \n",
            "4   5  B006K2ZZ7K  A1UQRSCLF8GW1T    Michael D. Bigham \"M. Wassir\"   \n",
            "\n",
            "   HelpfulnessNumerator  HelpfulnessDenominator  Rating   Timestamp  \\\n",
            "0                     1                       1       5  1303862400   \n",
            "1                     0                       0       1  1346976000   \n",
            "2                     1                       1       4  1219017600   \n",
            "3                     3                       3       2  1307923200   \n",
            "4                     0                       0       5  1350777600   \n",
            "\n",
            "          Review_Summary                                        Review_Text  \n",
            "0  Good Quality Dog Food  I have bought several of the Vitality canned d...  \n",
            "1      Not as Advertised  Product arrived labeled as Jumbo Salted Peanut...  \n",
            "2  \"Delight\" says it all  This is a confection that has been around a fe...  \n",
            "3         Cough Medicine  If you are looking for the secret ingredient i...  \n",
            "4            Great taffy  Great taffy at a great price.  There was a wid...  \n",
            "\n",
            "Processed Book Reviews Data:\n",
            "           Id                      Book_Title  Book_Price         User_ID  \\\n",
            "0  1882931173  Its Only Art If Its Well Hung!         NaN   AVCGYZL8FQQTD   \n",
            "1  0826414346        Dr. Seuss: American Icon         NaN  A30TK6U7DNS82R   \n",
            "2  0826414346        Dr. Seuss: American Icon         NaN  A3UH4UZ4RSVO82   \n",
            "3  0826414346        Dr. Seuss: American Icon         NaN  A2MVUWT453QH61   \n",
            "4  0826414346        Dr. Seuss: American Icon         NaN  A22X4XUPKF66MR   \n",
            "\n",
            "                         Profile_Name Helpfulness_Rating  Rating   Timestamp  \\\n",
            "0               Jim of Oz \"jim-of-oz\"                7/7     4.0   940636800   \n",
            "1                       Kevin Killian              10/10     5.0  1095724800   \n",
            "2                        John Granger              10/11     5.0  1078790400   \n",
            "3  Roy E. Perry \"amateur philosopher\"                7/7     4.0  1090713600   \n",
            "4     D. H. Richards \"ninthwavestore\"                3/3     4.0  1107993600   \n",
            "\n",
            "                                    Review_Summary  \\\n",
            "0           Nice collection of Julie Strain images   \n",
            "1                                Really Enjoyed It   \n",
            "2  Essential for every personal and Public Library   \n",
            "3  Phlip Nel gives silly Seuss a serious treatment   \n",
            "4                           Good academic overview   \n",
            "\n",
            "                                         Review_Text  \n",
            "0  This is only for Julie Strain fans. It's a col...  \n",
            "1  I don't care much for Dr. Seuss but after read...  \n",
            "2  If people become the books they read and if \"t...  \n",
            "3  Theodore Seuss Geisel (1904-1991), aka &quot;D...  \n",
            "4  Philip Nel - Dr. Seuss: American IconThis is b...  \n"
          ]
        }
      ]
    },
    {
      "cell_type": "code",
      "source": [
        "product_reviews_df.columns"
      ],
      "metadata": {
        "colab": {
          "base_uri": "https://localhost:8080/"
        },
        "id": "7qjQi-5EguIX",
        "outputId": "2b93b1d6-cc69-4802-f500-5df03f6983b6"
      },
      "execution_count": 49,
      "outputs": [
        {
          "output_type": "execute_result",
          "data": {
            "text/plain": [
              "Index(['Id', 'Product_ID', 'User_ID', 'ProfileName', 'HelpfulnessNumerator',\n",
              "       'HelpfulnessDenominator', 'Rating', 'Timestamp', 'Review_Summary',\n",
              "       'Review_Text'],\n",
              "      dtype='object')"
            ]
          },
          "metadata": {},
          "execution_count": 49
        }
      ]
    },
    {
      "cell_type": "code",
      "source": [
        "book_reviews_df.columns"
      ],
      "metadata": {
        "colab": {
          "base_uri": "https://localhost:8080/"
        },
        "id": "anTeYmR6g6sE",
        "outputId": "6afd8ae9-66de-4449-ed5b-5165920c18ff"
      },
      "execution_count": 50,
      "outputs": [
        {
          "output_type": "execute_result",
          "data": {
            "text/plain": [
              "Index(['Id', 'Book_Title', 'Book_Price', 'User_ID', 'Profile_Name',\n",
              "       'Helpfulness_Rating', 'Rating', 'Timestamp', 'Review_Summary',\n",
              "       'Review_Text'],\n",
              "      dtype='object')"
            ]
          },
          "metadata": {},
          "execution_count": 50
        }
      ]
    },
    {
      "cell_type": "code",
      "source": [
        "# Visualizing distribution of ratings for product reviews\n",
        "plt.figure(figsize=(10, 6))\n",
        "sns.histplot(product_reviews_df['Rating'], bins=10, kde=True, color='blue', edgecolor='black')\n",
        "plt.title('Distribution of Ratings in Product Reviews', fontsize=16)\n",
        "plt.xlabel('Rating', fontsize=12)\n",
        "plt.ylabel('Frequency', fontsize=12)\n",
        "plt.show()"
      ],
      "metadata": {
        "colab": {
          "base_uri": "https://localhost:8080/",
          "height": 570
        },
        "id": "NHbENnYJHF1U",
        "outputId": "369ea89f-d123-4c32-d0b0-3c2b96a91bc7"
      },
      "execution_count": 51,
      "outputs": [
        {
          "output_type": "display_data",
          "data": {
            "text/plain": [
              "<Figure size 1000x600 with 1 Axes>"
            ],
            "image/png": "[encoded data removed]"
          },
          "metadata": {}
        }
      ]
    },
    {
      "cell_type": "code",
      "source": [
        "# Visualizing distribution of ratings for book reviews\n",
        "plt.figure(figsize=(10, 6))\n",
        "sns.histplot(book_reviews_df['Rating'], bins=10, kde=True, color='green', edgecolor='black')\n",
        "plt.title('Distribution of Ratings in Book Reviews', fontsize=16)\n",
        "plt.xlabel('Rating', fontsize=12)\n",
        "plt.ylabel('Frequency', fontsize=12)\n",
        "plt.show()"
      ],
      "metadata": {
        "colab": {
          "base_uri": "https://localhost:8080/",
          "height": 570
        },
        "id": "JtzfinfFHI6W",
        "outputId": "bf812a8c-e355-43d5-9384-5e74e31511bd"
      },
      "execution_count": 52,
      "outputs": [
        {
          "output_type": "display_data",
          "data": {
            "text/plain": [
              "<Figure size 1000x600 with 1 Axes>"
            ],
            "image/png": "[encoded data removed]"
          },
          "metadata": {}
        }
      ]
    },
    {
      "cell_type": "code",
      "source": [
        "# Sample 0.05% of the data as the data is huge\n",
        "\n",
        "product_reviews_df = product_reviews_df.sample(frac=0.05, random_state=42)\n",
        "\n",
        "print(f\"Sampled dataset size: {product_reviews_df.shape}\")"
      ],
      "metadata": {
        "colab": {
          "base_uri": "https://localhost:8080/"
        },
        "outputId": "6d5e75e3-7a63-4cff-cdfe-cbd1a1fa86b4",
        "id": "eUNF-5F6bJCc"
      },
      "execution_count": 53,
      "outputs": [
        {
          "output_type": "stream",
          "name": "stdout",
          "text": [
            "Sampled dataset size: (28423, 10)\n"
          ]
        }
      ]
    },
    {
      "cell_type": "code",
      "source": [
        "# Sample 0.005% of the data as the data is huge\n",
        "\n",
        "book_reviews_df = book_reviews_df.sample(frac=0.005, random_state=42)\n",
        "\n",
        "print(f\"Sampled dataset size: {book_reviews_df.shape}\")"
      ],
      "metadata": {
        "colab": {
          "base_uri": "https://localhost:8080/"
        },
        "outputId": "a9fa74ce-1137-4d10-c253-0f1c4ddac31f",
        "id": "HP-lP08AbJCe"
      },
      "execution_count": 54,
      "outputs": [
        {
          "output_type": "stream",
          "name": "stdout",
          "text": [
            "Sampled dataset size: (15000, 10)\n"
          ]
        }
      ]
    },
    {
      "cell_type": "code",
      "source": [
        "common_users = set(product_reviews_df['User_ID']).intersection(set(book_reviews_df['User_ID']))\n",
        "\n",
        "# Filtering the datasets for common users\n",
        "\n",
        "product_reviews_common = product_reviews_df[product_reviews_df['User_ID'].isin(common_users)]\n",
        "book_reviews_common = book_reviews_df[book_reviews_df['User_ID'].isin(common_users)]\n",
        "\n",
        "# Checking if the number of common users is consistent\n",
        "\n",
        "print(f\"Common users: {len(common_users)}\")\n",
        "print(f\"Product Reviews Common size: {product_reviews_common.shape}\")\n",
        "print(f\"Book Reviews Common size: {book_reviews_common.shape}\")\n"
      ],
      "metadata": {
        "colab": {
          "base_uri": "https://localhost:8080/"
        },
        "id": "uFt_WuYLTEj2",
        "outputId": "9a7cb5d6-385d-4836-a6b8-34f402041a45"
      },
      "execution_count": 55,
      "outputs": [
        {
          "output_type": "stream",
          "name": "stdout",
          "text": [
            "Common users: 196\n",
            "Product Reviews Common size: (353, 10)\n",
            "Book Reviews Common size: (243, 10)\n"
          ]
        }
      ]
    },
    {
      "cell_type": "code",
      "source": [
        "# Checking if the number of common users is consistent\n",
        "\n",
        "print(f\"Common users: {len(common_users)}\")\n",
        "print(f\"Product Reviews Common size: {product_reviews_common.User_ID.nunique()}\")\n",
        "print(f\"Book Reviews Common size: {book_reviews_common.User_ID.nunique()}\")"
      ],
      "metadata": {
        "colab": {
          "base_uri": "https://localhost:8080/"
        },
        "id": "-HaXzBqbezN-",
        "outputId": "8e71dd65-821e-4d05-ce05-54e576fef53b"
      },
      "execution_count": 56,
      "outputs": [
        {
          "output_type": "stream",
          "name": "stdout",
          "text": [
            "Common users: 196\n",
            "Product Reviews Common size: 196\n",
            "Book Reviews Common size: 196\n"
          ]
        }
      ]
    },
    {
      "cell_type": "code",
      "source": [
        "# Grouping ratings of same product by the same user by averaging the ratings per user-product pair\n",
        "\n",
        "product_reviews_common = product_reviews_common.groupby(['User_ID', 'Product_ID']).agg({'Rating': 'mean'}).reset_index()\n",
        "\n",
        "# Grouping ratings of same book by the same user by averaging the ratings per user-book pair\n",
        "book_reviews_common = book_reviews_common.groupby(['User_ID', 'Book_Title']).agg({'Rating': 'mean'}).reset_index()\n"
      ],
      "metadata": {
        "id": "fF3wz7lhYcov"
      },
      "execution_count": 57,
      "outputs": []
    },
    {
      "cell_type": "code",
      "source": [
        "print(f\"Product Reviews Common size: {product_reviews_common.shape}\")\n",
        "print(f\"Book Reviews Common size: {book_reviews_common.shape}\")"
      ],
      "metadata": {
        "colab": {
          "base_uri": "https://localhost:8080/"
        },
        "id": "PNnz4mz4WpEL",
        "outputId": "2a27f387-859c-4a12-dbfe-256548afa4d9"
      },
      "execution_count": 58,
      "outputs": [
        {
          "output_type": "stream",
          "name": "stdout",
          "text": [
            "Product Reviews Common size: (352, 3)\n",
            "Book Reviews Common size: (243, 3)\n"
          ]
        }
      ]
    },
    {
      "cell_type": "code",
      "source": [
        "# Create user-product interaction matrix\n",
        "\n",
        "product_matrix = product_reviews_common.pivot(index='User_ID', columns='Product_ID', values='Rating')\n",
        "\n",
        "# Create user-book interaction matrix\n",
        "\n",
        "book_matrix = book_reviews_common.pivot(index='User_ID', columns='Book_Title', values='Rating')"
      ],
      "metadata": {
        "id": "rGd8c3egTEnF"
      },
      "execution_count": 59,
      "outputs": []
    },
    {
      "cell_type": "code",
      "source": [
        "# Filling missing values with zeros\n",
        "\n",
        "product_matrix.fillna(0, inplace=True)\n",
        "book_matrix.fillna(0, inplace=True)"
      ],
      "metadata": {
        "id": "kXq2jag6ZDBg"
      },
      "execution_count": 60,
      "outputs": []
    },
    {
      "cell_type": "code",
      "source": [
        "# Converting the user-item interaction matrix to a sparse matrix (CSR format)\n",
        "\n",
        "product_sparse_matrix = csr_matrix(product_matrix)\n",
        "\n",
        "book_sparse_matrix = csr_matrix(book_matrix)"
      ],
      "metadata": {
        "id": "NJVJ7t6vfcOL"
      },
      "execution_count": 61,
      "outputs": []
    },
    {
      "cell_type": "code",
      "source": [
        "# Applying SVD to the product matrix (using sparse matrix)\n",
        "\n",
        "svd_product = TruncatedSVD(n_components=20, random_state=42)\n",
        "\n",
        "U_product = svd_product.fit_transform(product_sparse_matrix)\n",
        "\n",
        "sigma_product = np.diag(svd_product.singular_values_)\n",
        "\n",
        "Vt_product = svd_product.components_"
      ],
      "metadata": {
        "id": "xrOv0WuefcQF"
      },
      "execution_count": 62,
      "outputs": []
    },
    {
      "cell_type": "code",
      "source": [
        "# Apply SVD to the book matrix (using sparse matrix)\n",
        "\n",
        "svd_book = TruncatedSVD(n_components=20, random_state=42)\n",
        "\n",
        "U_book = svd_book.fit_transform(book_sparse_matrix)\n",
        "\n",
        "sigma_book = np.diag(svd_book.singular_values_)\n",
        "\n",
        "Vt_book = svd_book.components_"
      ],
      "metadata": {
        "id": "z4F7JN0yfcUZ"
      },
      "execution_count": 63,
      "outputs": []
    },
    {
      "cell_type": "code",
      "source": [
        "# Predicting ratings for products (after applying SVD)\n",
        "product_pred = np.dot(np.dot(U_product, sigma_product), Vt_product)\n",
        "\n",
        "# Predicting ratings for books (after applying SVD)\n",
        "book_pred = np.dot(np.dot(U_book, sigma_book), Vt_book)"
      ],
      "metadata": {
        "id": "9_8eJyxXfcXR"
      },
      "execution_count": 64,
      "outputs": []
    },
    {
      "cell_type": "code",
      "source": [
        "# Create a mapping from book indices to book titles\n",
        "book_idx_to_title = {idx: title for idx, title in enumerate(book_matrix.columns)}\n",
        "\n",
        "# showing mapping\n",
        "print(book_idx_to_title)"
      ],
      "metadata": {
        "colab": {
          "base_uri": "https://localhost:8080/"
        },
        "id": "SSUboxGaTEpg",
        "outputId": "565c1ab8-aa82-4265-f458-002e0d244917"
      },
      "execution_count": 65,
      "outputs": [
        {
          "output_type": "stream",
          "name": "stdout",
          "text": [
            "{0: '1st to Die: A Novel', 1: 'A Christmas Carol (Classic Fiction)', 2: \"A Connecticut Yankee in King Arthur's Court\", 3: \"A Connecticut Yankee in King Arthur's Court (Mark Twain Library)\", 4: 'A Death in the Family', 5: 'A Journey to the Center of the Earth', 6: 'A Life God Rewards: Why Everything You Do Today Matters Forever', 7: 'A Perfect Scoundrel (Lords of Love)', 8: 'A Portrait of the Artist As a Young Man', 9: 'A Room with a View (Penguin Readers, Level 6)', 10: 'A visit from Santa Claus', 11: \"Alfred Hitchcock's Ghostly Gallery\", 12: \"Alice's Adventures in Wonderland (Aladdin Classics)\", 13: \"Alice's Adventures in Wonderland and Through the Looking Glass\", 14: \"Alice's Adventures in Wonderland and Through the Looking Glass (Classic Collection)\", 15: 'All Creatures Great and Small', 16: 'American Ways: A Guide for Foreigners in the United States', 17: 'Angels in America, Part One: Millennium Approaches', 18: 'Animal Farm (Signet Classics, CT304)', 19: 'Appointment with Death (A Hercule Poirot Mystery)', 20: 'Attack and Die: Civil War Military Tactics and the Southern Heritage', 21: 'August 1914', 22: 'BEACH ROAD', 23: 'Blessings', 24: 'Bound for Oregon', 25: 'Brave New World Revisited', 26: 'Brown bear, Brown bear, what do you see?', 27: 'Buffalo Soldiers', 28: 'Careless Love: A Play', 29: 'Casebook of a psychic detective', 30: \"Cat's Cradle\", 31: 'Catch 22 (catch-22)', 32: 'Cigars of the pharaoh (The adventures of Tintin)', 33: 'Coming Home', 34: 'Crafts for groups', 35: 'Credit After Bankruptcy: A Step-By-Step Action Plan to Quick and Lasting Recovery after Personal Bankruptcy', 36: 'Crime and Punishment (Harvard Classics Shelf of Fiction )', 37: 'DR JEKYL AND MR HYDE (MEDALLION EDITION)', 38: 'Damned Lies and Statistics: Untangling Numbers from the Media, Politicians, and Activists', 39: 'Dark Guardian', 40: 'Delta of Venus', 41: 'Desert Solitaire: A Season in the Wilderness', 42: 'Die a Little: A Novel', 43: 'Downtown: My Manhattan', 44: 'Dragons of the Dwarven Depths: The Lost Chronicles, Volume I (Lost Chronicles Trilogy)', 45: 'Drawing People: How to Portray the Clothed Figure', 46: 'Dying for Chocolate', 47: \"ECG's for the Emergency Physician 1\", 48: 'EXILED IN PARADISE', 49: 'Economics in one lesson,', 50: 'Elantris', 51: 'Ella Minnow Pea: A Novel in Letters', 52: 'Endometriosis For Dummies', 53: 'Extreme Denial', 54: 'Fahrenheit 451', 55: 'Fairy Spells: Seeing & Communicating with the Fairies', 56: 'Feel Great, Be Beautiful over 40: Inside Tips on How to Look Better, Be Healthier and Slow the Aging Process', 57: 'Five Acres and Independence a Handbook for Small Farm Management', 58: 'Flu: The Story of the Great Influenza Pandemic of 1918 and the Search for the Virus that Caused It', 59: 'For the Love of Mike (Molly Murphy Mysteries)', 60: 'Frankenstein (Isis Large Print Fiction)', 61: 'Freaks', 62: \"Frommer's Greece (Frommer's Complete Guides)\", 63: 'George Orwell 1984', 64: 'Good Things for Organizing (Good Things With Martha Stewart Living)', 65: 'Goodnight Moon', 66: 'HLFQ : Harrington Lesbian Fiction Quarterly Vol. 1 Number 3, 2002', 67: 'Handbook of nature-study', 68: 'Hard Times (Bantam Classics)', 69: 'Hawaiian Religion & Magic', 70: 'Hello Kitty: A Day with Papa', 71: 'Honor Lost: Love and Death in Modern-Day Jordan', 72: \"How to Be Happy, Dammit : A Cynic's Guide to Spiritual Happiness\", 73: 'I Am Legend', 74: 'I Say a Little Prayer: A Novel', 75: \"Inside the Poker Mind: Essays on Hold 'em and General Poker Concepts\", 76: 'Iron Orchid (Holly Barker Novels)', 77: 'Jonathan Livingston Seagull (20th Anniversary Ed.)', 78: 'Jonathan Strange & Mr. Norrell Signed', 79: 'Julie and Julia: 365 Days, 524 Recipes, 1 Tiny Apartment Kitchen: How One Girl Risked Her Marriage, Her Job, and Her ... Living', 80: \"Just Being Me #4: I'm ALL Dressed!\", 81: 'Kat Kong', 82: 'Kinetic Art: Theory and Practice', 83: 'LAST COYOTE (HARRY BOSCH, NO 4)', 84: \"La Dolce Vegan!: Vegan Livin' Made Easy\", 85: 'La Vita nuova (The new life)', 86: 'Lady Susan', 87: 'Little Women', 88: 'Little women, or, Meg, Jo, Beth and Amy', 89: \"Live From the Gates of Hell : An Insider's Look at the Anti-Abortion Movement\", 90: \"Living with Cannibals and Other Women's Adventures (Adventure Press)\", 91: 'Lord of the flies', 92: 'Lucky Man: A Memoir', 93: 'Lyndon Larouche and the New American Fascism', 94: \"MADELINE'S RESCUE\", 95: 'MCSE Windows 2000 Core 4 For Dummies, Boxed Set', 96: 'Mangoes & Curry Leaves', 97: \"Mary's Journal-a Mothers Story\", 98: 'Me & Jay', 99: 'Meet Me at Midnight (With This Ring)', 100: \"Meg Swansen's Knitting\", 101: 'Mere Christianity', 102: \"Merriam-Webster's Geographical Dictionary, Third Edition\", 103: 'Merry Adventures of Robin Hood of Great Renown, in Nottinghamshire', 104: 'Miss Pettigrew lives for a day,', 105: 'Monster', 106: 'More Precious Than Rubies', 107: 'Multiple Streams of Internet Income', 108: \"Narcotics : nature's dangerous gifts\", 109: 'Necessary Evil', 110: 'Neuromancer', 111: 'Nineteen Eighty-four', 112: 'Of Mice & Men', 113: 'Of Mice and Men', 114: 'On Liberty', 115: 'One Corpse Too Many', 116: 'One Last Time', 117: 'One fish, two fish, red fish, blue fish (I can read it all by myself)', 118: 'Orphans of Chaos', 119: 'Oxford English Dictionary: Single User Version', 120: 'Partners In Crime', 121: 'Playing the Moldovans at Tennis', 122: 'Poetics of music in the form of six lessons', 123: 'Poky Little Puppy', 124: 'Polar star', 125: 'Practical Magic', 126: 'Pride & Prejudice (New Windmill)', 127: 'Pride and Prejudice', 128: 'Priestess of Avalon', 129: 'Rabbit, Run', 130: 'Reliquary', 131: 'SPIN', 132: 'Scholastic Reader Collection Level 3: Batman: 4 Adventure Stories', 133: 'Semi-Homemade Cooking: Quick, Marvelous Meals and Nothing is Made from scratch', 134: 'Sense & Sensibility Cds (Penguin Classics)', 135: \"Sharpe's Tiger : Richard Sharpe and the Siege of Seringapatam, 1799 (Richard Sharpe's Adventure Series #1)\", 136: 'Songs of Stephen Foster', 137: 'Soulless', 138: 'Spook: Science Tackles the Afterlife', 139: 'Spring Moon: A Novel of China', 140: 'St. Athanasius on the Incarnation: The Treatise De Incarnatione Verbi Dei', 141: 'Stars Like Dust', 142: 'Swamp Thing Vol. 5: Earth to Earth', 143: 'THE CLASSIC ITALIAN COOKBOOK', 144: 'THIRD SECRET: A Novel Of Suspense (H)', 145: \"Tess of the d'Urbervilles,: A pure woman faithfully presented\", 146: 'That hideous strength,: A modern fairy-tale for grown-ups', 147: 'The ABC Murders', 148: 'The Abolition of Man', 149: 'The Alkalizing Diet: Your Life Is In The Balance', 150: 'The Art of Managing Everyday Conflict: Understanding Emotions and Power Struggles', 151: \"The Backyard Bird-Lover's Guide: Attracting, Nesting, Feeding\", 152: 'The Bad Seed', 153: 'The Berlin Stories: The Last of Mr. Norris', 154: 'The Best Christmas pageant ever', 155: 'The Billboard Book of Top 40 Country Hits', 156: \"The Browser's Book of Endings: The End of Practically Everything and Everybody\", 157: 'The Color of Magic', 158: 'The Complete Calvin and Hobbes', 159: 'The Cossacks: The death of Ivan Ilyich; Happy Ever After (The Penguin classics L109)', 160: \"The Devil's Dictionary (Large Print)\", 161: 'The Electric Kool-Aid Acid Test', 162: 'The Exorcist', 163: 'The Fellowship of the Rings', 164: 'The Flying Saucers Are Real', 165: 'The Formation of Islam: Religion and Society in the Near East, 600-1800 (Themes in Islamic History)', 166: 'The Godfather', 167: 'The Great Alone', 168: 'The Green Frogs: A Korean Folktale', 169: \"The Handmaid's Tale\", 170: 'The Hobbit There and Back Again', 171: 'The Hollow', 172: 'The Hollow Man', 173: 'The Irish Devil', 174: 'The Last Enchantment : Book Three of the Arthurian Saga (Arthurian Saga, 3)', 175: 'The Long Dark Tea-Time of the Soul', 176: 'The Lord of the Rings Trilogy 3 Volumes', 177: 'The Love Wife', 178: 'The Making of a Chef: Mastering Heat at the Culinary Institute of America', 179: 'The Math Entertainer', 180: 'The Monster At The End Of This Book', 181: 'The Murder of Roger Ackroyd', 182: 'The Mystical Guide to Home Inspection: Thoughts from a Holistic Home Inspector', 183: 'The Myth of Islamic Tolerance: How Islamic Law Treats Non-Muslims', 184: 'The Origin of Species', 185: \"The PDR Pocket Guide to Prescription Drugs: 7th Edition (Physicians' Desk Reference Pocket Guide to Prescription Drugs)\", 186: 'The Picture of Dorian Gray', 187: 'The Picture of Dorian Gray (Bantam Classics)', 188: 'The Plot Against America', 189: 'The Poisonwood Bible', 190: 'The Price of Whiteness: Jews, Race, and American Identity', 191: 'The Problem of Pain', 192: 'The Reformation (The Pelican History of the Church, Volume 3)', 193: 'The Rising Tide: A Novel of the Second World War (World War II)', 194: 'The Roman way', 195: 'The Scarlet Letter A Romance', 196: 'The Secret To Low Carb Success!: How to Get the Most Out of Your Low Carbohydrate Diet', 197: 'The Slave', 198: 'The Sprouting Book: How to Grow and Use Sprouts to Maximize Your Health and Vitality (Avery Health Guides)', 199: 'The Survivors Club', 200: 'The Technique of Film Editing: Basic Principles for TV', 201: 'The Third Twin', 202: 'The Time Machine: An Invention', 203: 'The Two Towers', 204: 'The Venus Hottentot (Callaloo Poetry Series, Number 9)', 205: 'The Wapshot Scandal', 206: 'The Way We Lived (Eventful 20th Century)', 207: 'The Wine Lover Cooks with Wine: Great Recipes for the Essential Ingredient', 208: 'The Zero Stone', 209: \"The Zuni Cafe Cookbook: A Compendium of Recipes and Cooking Lessons from San Francisco's Beloved Restaurant\", 210: 'The adventures of Huckleberry Finn', 211: 'The fountainhead,', 212: 'The knowledge of the holy: The attributes of God : their meaning in the Christian life', 213: 'The secret oral teachings in Tibetan Buddhist sects', 214: 'The song of Hiawatha', 215: \"The sun also rises (The Modern library of the world's best books)\", 216: 'They Came to Baghdad', 217: 'Thomas and the Naughty Diesel (Thomas & Friends) (Pictureback(R))', 218: 'Though The Heavens May Fall: The Landmark Trial That Led To The End Of Human Slavery', 219: 'Three Goats (Modern Curriculum Press Beginning to Read Series)', 220: 'To America: Personal Reflections of an Historian', 221: 'To kill a mockingbird', 222: 'Trinity', 223: 'True Believer (Large Print)', 224: 'Verbal Abuse: Survivors Speak Out on Releationship and Recovery', 225: 'Waiting', 226: 'Walden', 227: 'Watchmen', 228: \"We Don't Die: George Anderson's Conversations With the Other Side\", 229: 'We the Living', 230: 'What Am I Doing Here', 231: \"What's Michael? Vol. 10: Sleepless Nights\", 232: 'Whispers', 233: \"Whores: An Oral Biography of Perry Farrell and Jane's Addiction\", 234: 'Wuthering Heights'}\n"
          ]
        }
      ]
    },
    {
      "cell_type": "code",
      "source": [
        "def recommend_books_for_product(user_id, n_recommendations=5):\n",
        "    \"\"\"\n",
        "    Recommend books for a user based on their ratings of products.\n",
        "    The recommendation is based on the predicted ratings for books, aggregated across top products.\n",
        "    \"\"\"\n",
        "    # Retrieve the predicted ratings for all products for the user\n",
        "    user_product_ratings = product_pred[user_id]\n",
        "\n",
        "    # Retrieve indices of the top N product ratings (most preferred products)\n",
        "    top_product_indices = np.argsort(user_product_ratings)[::-1][:n_recommendations]\n",
        "\n",
        "    # Aggregate predicted ratings for books across the top products\n",
        "    product_to_books_ratings = np.sum(np.dot(U_product[top_product_indices], Vt_book), axis=0)\n",
        "\n",
        "    # Retrieve indices of the top N books with the highest aggregated scores\n",
        "    top_book_indices = np.argsort(product_to_books_ratings)[::-1][:n_recommendations]\n",
        "\n",
        "    # Retrieve the titles for the recommended books\n",
        "    recommended_books_titles = [book_idx_to_title[idx] for idx in top_book_indices]\n",
        "\n",
        "    return recommended_books_titles"
      ],
      "metadata": {
        "id": "1QkxsqyEf5oT"
      },
      "execution_count": 66,
      "outputs": []
    },
    {
      "cell_type": "code",
      "source": [
        "# Test the recommendation functions\n",
        "\n",
        "user_id = 7\n",
        "\n",
        "top_n = 5\n",
        "\n",
        "# Retrieving recommended books based on product preferences\n",
        "\n",
        "recommended_books = recommend_books_for_product(user_id, n_recommendations=top_n)\n",
        "\n",
        "print(f\"Top {top_n} Books for User {user_id} based on Product Preferences: {recommended_books}\")"
      ],
      "metadata": {
        "colab": {
          "base_uri": "https://localhost:8080/"
        },
        "id": "nIuAcCBCdNou",
        "outputId": "2ede7d60-36bd-43a0-8ce0-ef3b06878f23"
      },
      "execution_count": 67,
      "outputs": [
        {
          "output_type": "stream",
          "name": "stdout",
          "text": [
            "Top 5 Books for User 7 based on Product Preferences: ['The ABC Murders', 'The Murder of Roger Ackroyd', 'A Christmas Carol (Classic Fiction)', 'Poky Little Puppy', 'Jonathan Livingston Seagull (20th Anniversary Ed.)']\n"
          ]
        }
      ]
    },
    {
      "cell_type": "code",
      "source": [
        "def recommend_products_for_book(user_id, n_recommendations=5):\n",
        "    \"\"\"\n",
        "    Recommend products for a user based on their ratings of books.\n",
        "    Provides a single consolidated list of recommended products.\n",
        "    \"\"\"\n",
        "    # Predicted ratings for all books for the given user\n",
        "    user_book_ratings = book_pred[user_id]\n",
        "\n",
        "    # Top N books based on predicted ratings\n",
        "    top_book_indices = np.argsort(user_book_ratings)[::-1][:n_recommendations]\n",
        "\n",
        "    # Aggregate predicted ratings for products across the top books\n",
        "    book_to_products_ratings = np.sum(np.dot(U_book[top_book_indices], Vt_product), axis=0)\n",
        "\n",
        "    # Top N products with the highest aggregated scores\n",
        "    top_product_indices = np.argsort(book_to_products_ratings)[::-1][:n_recommendations]\n",
        "\n",
        "    # Retrieve the product IDs for the recommended products\n",
        "    recommended_product_ids = [product_matrix.columns[idx] for idx in top_product_indices]\n",
        "\n",
        "    return recommended_product_ids"
      ],
      "metadata": {
        "id": "4Ceg_DmGf9qX"
      },
      "execution_count": 68,
      "outputs": []
    },
    {
      "cell_type": "code",
      "source": [
        "# Retrieving recommended products based on book preferences\n",
        "\n",
        "recommended_products = recommend_products_for_book(user_id, n_recommendations=top_n)\n",
        "\n",
        "print(f\"Top {top_n} Products for User {user_id} based on Book Preferences: {recommended_products}\")"
      ],
      "metadata": {
        "colab": {
          "base_uri": "https://localhost:8080/"
        },
        "id": "AMdiaVEsgdNR",
        "outputId": "50cc44be-7840-4a14-944a-4226ba4db5a7"
      },
      "execution_count": 69,
      "outputs": [
        {
          "output_type": "stream",
          "name": "stdout",
          "text": [
            "Top 5 Products for User 7 based on Book Preferences: ['B000LKXRV8', 'B0017SWAAW', 'B004GU3YXU', 'B005VGZ49U', 'B001EPQMU2']\n"
          ]
        }
      ]
    },
    {
      "cell_type": "code",
      "source": [
        "def plot_recommendations(user_id, top_n=5):\n",
        "    \"\"\"\n",
        "    Plot bar charts showing the top recommended books and products for a given user.\n",
        "\n",
        "    Parameters:\n",
        "        user_id (int): The ID of the user for whom recommendations are generated.\n",
        "        top_n (int): Number of top recommendations to display.\n",
        "    \"\"\"\n",
        "   # Retrieving recommended books based on product preferences (limit to top_n)\n",
        "    recommended_books = recommend_books_for_product(user_id, n_recommendations=top_n)\n",
        "\n",
        "    # Retrieving recommended products based on book preferences (limit to top_n)\n",
        "    recommended_products = recommend_products_for_book(user_id, n_recommendations=top_n)\n",
        "\n",
        "    # Flatten the lists of recommended books and products (consider only top_n items)\n",
        "    recommended_books_flat = [item for sublist in recommended_books for item in sublist][:top_n]\n",
        "    recommended_products_flat = [item for sublist in recommended_products for item in sublist][:top_n]\n",
        "\n",
        "\n",
        "    # Create bar plots for recommended books and products\n",
        "    fig, axes = plt.subplots(1, 2, figsize=(14, 6))\n",
        "\n",
        "    # Bar plot for recommended books (top_n only)\n",
        "    axes[0].barh(recommended_books_flat,range(1, len(recommended_books_flat) + 1), color='skyblue')\n",
        "    axes[0].set_yticks(range(len(recommended_books)))\n",
        "    axes[0].set_yticklabels(recommended_books)\n",
        "    axes[0].set_title(f\"Top {top_n} Recommended Books for User {user_id} Based on Product Preference\")\n",
        "    axes[0].set_xlabel('Recommendation Rank')\n",
        "    axes[0].invert_yaxis()  # Highest-ranked book at the top\n",
        "\n",
        "    # Bar plot for recommended products (top_n only)\n",
        "    axes[1].barh(recommended_books_flat, range(1, len(recommended_books_flat) + 1), color='lightgreen')\n",
        "    axes[1].set_yticks(range(len(recommended_products)))\n",
        "    axes[1].set_yticklabels(recommended_products)\n",
        "    axes[1].set_title(f\"Top {top_n} Recommended Products for User {user_id} based on Book Preference\")\n",
        "    axes[1].set_xlabel('Recommendation Rank')\n",
        "    axes[1].invert_yaxis()  # Highest-ranked product at the top\n",
        "\n",
        "    plt.tight_layout()\n",
        "    plt.show()\n",
        "\n",
        "# Test the plot function with a specific user_id and number of recommendations\n",
        "plot_recommendations(user_id=7, top_n=5)\n"
      ],
      "metadata": {
        "colab": {
          "base_uri": "https://localhost:8080/",
          "height": 607
        },
        "id": "tIToGEw9aPoX",
        "outputId": "46c059a0-36d3-4f32-c010-98c12c0aebf4"
      },
      "execution_count": 71,
      "outputs": [
        {
          "output_type": "display_data",
          "data": {
            "text/plain": [
              "<Figure size 1400x600 with 2 Axes>"
            ],
            "image/png": "[encoded data removed]"
          },
          "metadata": {}
        }
      ]
    }
  ]
}